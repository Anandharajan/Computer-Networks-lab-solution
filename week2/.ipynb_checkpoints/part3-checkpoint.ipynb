{
 "cells": [
  {
   "cell_type": "code",
   "execution_count": 6,
   "metadata": {},
   "outputs": [],
   "source": [
    "import math\n",
    "import random\n",
    "import queue as Q\n",
    "import matplotlib.pyplot as plt\n",
    "from matplotlib import style\n"
   ]
  },
  {
   "cell_type": "code",
   "execution_count": 7,
   "metadata": {},
   "outputs": [],
   "source": [
    "style.use('seaborn-dark-palette')"
   ]
  },
  {
   "cell_type": "code",
   "execution_count": 8,
   "metadata": {},
   "outputs": [],
   "source": [
    "class Event:\n",
    "    def __init__(self, typ, timestamp, packet_id, source_id):\n",
    "        self.typ = typ\n",
    "        self.timestamp=timestamp\n",
    "        self.packet_id=packet_id\n",
    "        self.source_id = source_id\n",
    "        \n",
    "    def __lt__(self, other):\n",
    "        return self.timestamp<other.timestamp\n",
    "        \n",
    "\n",
    "class Packet:\n",
    "    def __init__(self, packet_id, time_of_birth, source_id, time_of_death=0):\n",
    "        self.packet_id=packet_id\n",
    "        self.time_of_birth = time_of_birth\n",
    "        self.time_of_death = time_of_death\n",
    "        self.source_id= source_id\n",
    "    \n",
    "class Source:\n",
    "    def __init__(self, source_id, packet_producing_rate, bandwidth_source):\n",
    "        self.source_id=source_id\n",
    "        self.packet_producing_rate = packet_producing_rate\n",
    "        self.bandwidth_source=  bandwidth_source\n",
    "    \n",
    "    def generate_packet(self, packet_id, time_of_birth):\n",
    "        source_id = self.source_id\n",
    "        packet = Packet(packet_id, time_of_birth,source_id,time_of_death=0)\n",
    "        return packet\n",
    "    \n",
    "class Switch:\n",
    "    def __init__(self,bandwidth_switch,max_len_of_queue = math.inf, len_q=0):\n",
    "        self.bandwidth_switch = bandwidth_switch\n",
    "        self.len_q = len_q\n",
    "        self.max_len_of_queue=max_len_of_queue\n"
   ]
  },
  {
   "cell_type": "code",
   "execution_count": 9,
   "metadata": {},
   "outputs": [],
   "source": [
    "def get_timestamp(current_time, packet_generation_rate):\n",
    "    random_no = random.uniform(0,1)\n",
    "    next_time = current_time + ((math.log(1-random_no)/packet_generation_rate)*(-1))\n",
    "    return next_time\n",
    "    "
   ]
  },
  {
   "cell_type": "code",
   "execution_count": 10,
   "metadata": {},
   "outputs": [],
   "source": [
    "packet_producing_rate_list=[1,1,1,1]\n",
    "x = []\n",
    "y=[]\n",
    "\n",
    "while sum(packet_producing_rate_list)<1000:\n",
    "    count=0\n",
    "    average_delay=0\n",
    "    while count<10:\n",
    "        bandwidth_switch=4800000\n",
    "        source_dict={}\n",
    "        packet_length=1500.0*8\n",
    "        bandwidth_source = 2000000.0\n",
    "        packet_id=0\n",
    "        packet_dict={}\n",
    "        max_allowed_packets=5000\n",
    "        last_packet_leaving_time=0\n",
    "        is_first=True\n",
    "        no_packets_left=0\n",
    "\n",
    "        switch_obj = Switch(bandwidth_switch)\n",
    "\n",
    "        pririority_queue= Q.PriorityQueue()\n",
    "\n",
    "\n",
    "\n",
    "        for source_id in range(4):\n",
    "            source_obj = Source(source_id,packet_producing_rate_list[source_id], bandwidth_source)\n",
    "            source_dict[source_id]=source_obj\n",
    "\n",
    "        for packet_id in range(1,5):\n",
    "            source_id = packet_id - 1 # source goes from 0 to 3\n",
    "            time_of_birth = random.uniform(1,2)\n",
    "            packet_obj = source_dict[source_id].generate_packet(packet_id, time_of_birth)\n",
    "            event_obj = Event(0,time_of_birth, packet_id, source_id)\n",
    "            pririority_queue.put(event_obj)\n",
    "            packet_dict[packet_id]=packet_obj\n",
    "            # print(\"packet_id %d time of birth %f packet's source id: %d\" %(packet_obj.packet_id, packet_obj.time_of_birth, packet_obj.source_id))\n",
    "\n",
    "        packet_id=5\n",
    "        while no_packets_left< max_allowed_packets:\n",
    "            current_event = pririority_queue.get()\n",
    "            current_event_timestamp = current_event.timestamp\n",
    "            current_event_packet_id = current_event.packet_id\n",
    "            current_event_source_id = current_event.source_id\n",
    "            if current_event.typ ==0:\n",
    "                random_no = random.uniform(0,1)\n",
    "                next_time = math.log(1-random_no)/(packet_producing_rate_list[source_id]*-1)\n",
    "                timestamp_zero_obj =current_event_timestamp+ next_time\n",
    "                event_zero_obj = Event(0,timestamp_zero_obj , packet_id, current_event_source_id)\n",
    "                packet_obj = source_dict[source_id].generate_packet(packet_id, timestamp_zero_obj)\n",
    "                packet_dict[packet_id]=packet_obj\n",
    "                packet_id+=1\n",
    "                pririority_queue.put(event_zero_obj)\n",
    "\n",
    "                timestamp_one_obj = current_event_timestamp+packet_length/bandwidth_source\n",
    "                event_one_obj = Event(1, timestamp_one_obj , current_event_packet_id, current_event_source_id)\n",
    "                pririority_queue.put(event_one_obj)\n",
    "\n",
    "            elif current_event.typ==1:\n",
    "                len_q = switch_obj.len_q\n",
    "                tx = (packet_length/bandwidth_switch -(current_event_timestamp-last_packet_leaving_time))\n",
    "                tx = max(0,tx)\n",
    "                if is_first:\n",
    "                    tx=0\n",
    "                    is_first=False\n",
    "                time_stamp_two_obj = (current_event_timestamp+ (len_q*packet_length)/bandwidth_switch) + tx\n",
    "                packet_dict[current_event_packet_id].time_of_death=time_stamp_two_obj+packet_length/bandwidth_switch\n",
    "                event_two_obj = Event(2,time_stamp_two_obj, current_event_packet_id, current_event_source_id)\n",
    "                pririority_queue.put(event_two_obj)\n",
    "                switch_obj.len_q+=1\n",
    "\n",
    "            elif current_event.typ==2:\n",
    "                last_packet_leaving_time=current_event_timestamp\n",
    "                switch_obj.len_q-=1\n",
    "                time_stamp_three_obj = current_event_timestamp+ packet_length/bandwidth_switch\n",
    "                event_three_obj = Event(3,time_stamp_three_obj, current_event_packet_id, current_event_source_id)\n",
    "                pririority_queue.put(event_three_obj)\n",
    "                no_packets_left+=1\n",
    "\n",
    "\n",
    "        delay=0    \n",
    "        total_packets=0\n",
    "        for packet_id in packet_dict:\n",
    "                #print(\"packet id %d packet start %f packet finish %f\" %(packet_id, packet_dict[packet_id].time_of_birth, packet_dict[packet_id].time_of_death))\n",
    "                if packet_dict[packet_id].time_of_death>packet_dict[packet_id].time_of_birth:\n",
    "                    delay+= (packet_dict[packet_id].time_of_death - packet_dict[packet_id].time_of_birth)\n",
    "                    total_packets+=1\n",
    "        average_delay+= delay/total_packets\n",
    "        count+=1\n",
    "    y.append(average_delay/count)\n",
    "    x.append(sum(packet_producing_rate_list))\n",
    "    packet_producing_rate_list=[x+1 for x in packet_producing_rate_list]"
   ]
  },
  {
   "cell_type": "code",
   "execution_count": 13,
   "metadata": {},
   "outputs": [
    {
     "data": {
      "image/png": "[encoded data removed]",
      "text/plain": [
       "<matplotlib.figure.Figure at 0x1d66276c160>"
      ]
     },
     "metadata": {},
     "output_type": "display_data"
    }
   ],
   "source": [
    "plt.plot(x,y,)\n",
    "plt.xlabel(\"Lambda\", color='red')\n",
    "plt.ylabel(\"Average delay\", color='red')\n",
    "plt.title(\"Graph b/w Average delay vs Lambda\")\n",
    "plt.text(100,2,\"lambda from 1 to 250\\npacket length=120kb\\nbs=2Mb\\nbss= 4.8Mb\", fontsize=8, color='green')\n",
    "plt.show()\n"
   ]
  },
  {
   "cell_type": "code",
   "execution_count": null,
   "metadata": {},
   "outputs": [],
   "source": []
  }
 ],
 "metadata": {
  "kernelspec": {
   "display_name": "Python 3",
   "language": "python",
   "name": "python3"
  },
  "language_info": {
   "codemirror_mode": {
    "name": "ipython",
    "version": 3
   },
   "file_extension": ".py",
   "mimetype": "text/x-python",
   "name": "python",
   "nbconvert_exporter": "python",
   "pygments_lexer": "ipython3",
   "version": "3.5.2"
  }
 },
 "nbformat": 4,
 "nbformat_minor": 2
}
